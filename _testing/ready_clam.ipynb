{
 "cells": [
  {
   "cell_type": "markdown",
   "metadata": {},
   "source": [
    "To make data ready for CLAM, we need:\n",
    "\n",
    "- in dataset_csv: \n",
    "a csv file called p53_classification_clean.csv like this:\n",
    "\n",
    "case_id,slide_id,label\n",
    "patient_0,slide_0,subtype_1\n",
    "patient_1,slide_1,subtype_3\n",
    "\n",
    "- in splits/task_3_p53_classification_custom: \n",
    "a csv file for each fold called split_{fold_nr}.csv like this:\n",
    "\n",
    ",train,val,test\n",
    "0,slide_110,slide_403,slide_13\n",
    "1,slide_112,slide_336,slide_353\n",
    "2,slide_113,slide_423,slide_59\n",
    "where each column thus has a different length\n",
    "\n",
    "- in {data_root_dir}/p53_classification_retccl_features/pt_files \n",
    "one pt file per slide_id containing a tensor of patch features, assumed to be of shape (n_patches, n_features)"
   ]
  },
  {
   "cell_type": "code",
   "execution_count": 4,
   "metadata": {},
   "outputs": [
    {
     "name": "stderr",
     "output_type": "stream",
     "text": [
      "C:\\Users\\321lu\\AppData\\Local\\Temp\\ipykernel_18692\\2623830731.py:1: DeprecationWarning: \n",
      "Pyarrow will become a required dependency of pandas in the next major release of pandas (pandas 3.0),\n",
      "(to allow more performant data types, such as the Arrow string type, and better interoperability with other libraries)\n",
      "but was not found to be installed on your system.\n",
      "If this would cause problems for you,\n",
      "please provide us feedback at https://github.com/pandas-dev/pandas/issues/54466\n",
      "        \n",
      "  import pandas as pd\n"
     ]
    }
   ],
   "source": [
    "import pandas as pd\n",
    "import os\n",
    "\n",
    "from load_data import DATA_DIR\n",
    "\n",
    "CLAM_DIR = os.path.join(DATA_DIR, '..','..','code','CLAM')"
   ]
  },
  {
   "cell_type": "code",
   "execution_count": null,
   "metadata": {},
   "outputs": [],
   "source": [
    "import matplotlib\n",
    "import numpy\n",
    "import cv2\n",
    "import pandas\n",
    "import PIL\n",
    "import torch\n",
    "import scipy\n",
    "import sklearn\n",
    "import tensorboardx\n",
    "import torchvision\n",
    "from topk.svm import SmoothTop1SVM"
   ]
  },
  {
   "cell_type": "code",
   "execution_count": 2,
   "metadata": {},
   "outputs": [
    {
     "name": "stdout",
     "output_type": "stream",
     "text": [
      "Requirement already satisfied: tensorboardx in c:\\users\\321lu\\.conda\\envs\\dl2023\\lib\\site-packages (2.6.2.2)\n",
      "Requirement already satisfied: numpy in c:\\users\\321lu\\.conda\\envs\\dl2023\\lib\\site-packages (from tensorboardx) (1.26.4)\n",
      "Requirement already satisfied: packaging in c:\\users\\321lu\\appdata\\roaming\\python\\python311\\site-packages (from tensorboardx) (23.1)\n",
      "Requirement already satisfied: protobuf>=3.20 in c:\\users\\321lu\\.conda\\envs\\dl2023\\lib\\site-packages (from tensorboardx) (4.25.3)\n"
     ]
    },
    {
     "name": "stderr",
     "output_type": "stream",
     "text": [
      "ERROR: Could not find a version that satisfies the requirement topk (from versions: none)\n",
      "ERROR: No matching distribution found for topk\n"
     ]
    }
   ],
   "source": [
    "!pip install tensorboardx"
   ]
  },
  {
   "cell_type": "markdown",
   "metadata": {},
   "source": [
    "# Labels"
   ]
  },
  {
   "cell_type": "code",
   "execution_count": 14,
   "metadata": {},
   "outputs": [],
   "source": [
    "DISABLE_DOUBLECLONE = True"
   ]
  },
  {
   "cell_type": "code",
   "execution_count": 15,
   "metadata": {},
   "outputs": [
    {
     "name": "stdout",
     "output_type": "stream",
     "text": [
      "label\n",
      "wildtype          1140\n",
      "overexpression     266\n",
      "nullmutation       111\n",
      "Name: count, dtype: int64\n"
     ]
    }
   ],
   "source": [
    "labels = pd.read_csv(os.path.join(DATA_DIR, 'biopsy_labels_anon_s1.0.csv'))\n",
    "\n",
    "\"\"\"\n",
    "format:\n",
    "\tid\tlabel\n",
    "0\t0\t2\n",
    "1\t1\t2\n",
    "2\t2\t2\n",
    "to:\n",
    "case_id,slide_id,label\n",
    "patient_0,slide_0,wildtype\n",
    "patient_1,slide_1,overexpression\n",
    "\"\"\"\n",
    "\n",
    "labels['label_ori'] = labels['label']\n",
    "labels.drop('label', axis=1, inplace=True)\n",
    "labels['case_id'] = 'patient_' + labels['id'].astype(str)\n",
    "labels['slide_id'] = 'slide_' + labels['id'].astype(str)\n",
    "labels['label'] = labels['label_ori'].map({0: 'wildtype', 1: 'overexpression', 2: 'nullmutation', 3: 'doubleclone'})\n",
    "labels.drop('id', axis=1, inplace=True)\n",
    "labels.drop('label_ori', axis=1, inplace=True)\n",
    "\n",
    "if DISABLE_DOUBLECLONE:\n",
    "    labels = labels[labels['label'] != 'doubleclone']\n",
    "\n",
    "# Show distribution of labels\n",
    "print(labels['label'].value_counts())\n",
    "\n",
    "labels.to_csv(os.path.join(CLAM_DIR, 'dataset_csv', 'p53_classification_clean.csv'), index=False)"
   ]
  },
  {
   "cell_type": "markdown",
   "metadata": {},
   "source": [
    "# Splits"
   ]
  },
  {
   "cell_type": "code",
   "execution_count": 16,
   "metadata": {},
   "outputs": [
    {
     "name": "stdout",
     "output_type": "stream",
     "text": [
      "1472 45\n"
     ]
    }
   ],
   "source": [
    "# We want to save splits for 5 different folds as split_{fold_nr}.csv inside CLAM_DIR/splits/task_3_p53_classification_custom\n",
    "\"\"\" format:\n",
    ",train,val,test\n",
    "0,slide_110,slide_403,slide_13\n",
    "1,slide_112,slide_336,slide_353\n",
    "2,slide_113,slide_423,slide_59\n",
    "where each column thus has a different length\n",
    "\"\"\"\n",
    "\n",
    "from sklearn.model_selection import KFold\n",
    "\n",
    "# First we need to get the train and test indices\n",
    "train_labels = pd.read_csv(os.path.join(DATA_DIR, 'train.csv'))\n",
    "test_labels = pd.read_csv(os.path.join(DATA_DIR, 'test.csv'))\n",
    "\n",
    "# Filter label 3 out of the test set\n",
    "if DISABLE_DOUBLECLONE:\n",
    "    test_labels = test_labels[test_labels['label'] != 3]\n",
    "\n",
    "train_indices = train_labels['id'].values\n",
    "test_indices = test_labels['id'].values\n",
    "\n",
    "print(len(train_indices), len(test_indices))\n",
    "\n",
    "# Now we can create the splits\n",
    "kf = KFold(n_splits=5, shuffle=True, random_state=42)\n",
    "\n",
    "os.makedirs(os.path.join(CLAM_DIR, 'splits', 'task_3_p53_classification_custom'), exist_ok=True)\n",
    "\n",
    "for fold_nr, (train_index, val_index) in enumerate(kf.split(train_indices)):\n",
    "    train_slides = ['slide_' + str(i) for i in train_indices[train_index]]\n",
    "    val_slides = ['slide_' + str(i) for i in train_indices[val_index]]\n",
    "    test_slides = ['slide_' + str(i) for i in test_indices]\n",
    "\n",
    "    # arrays need to be of same length so we pad with None\n",
    "    max_len = max(len(train_slides), len(val_slides), len(test_slides))\n",
    "    train_slides += [None] * (max_len - len(train_slides))\n",
    "    val_slides += [None] * (max_len - len(val_slides))\n",
    "    test_slides += [None] * (max_len - len(test_slides))\n",
    "\n",
    "    split = pd.DataFrame({'train': train_slides, 'val': val_slides, 'test': test_slides})\n",
    "    split.to_csv(os.path.join(CLAM_DIR, 'splits', 'task_3_p53_classification_custom', f'splits_{fold_nr}.csv'))"
   ]
  },
  {
   "cell_type": "markdown",
   "metadata": {},
   "source": [
    "# Features"
   ]
  },
  {
   "cell_type": "code",
   "execution_count": 10,
   "metadata": {},
   "outputs": [
    {
     "data": {
      "text/plain": [
       "[]"
      ]
     },
     "metadata": {},
     "output_type": "display_data"
    }
   ],
   "source": [
    "import torch\n",
    "import os\n",
    "from load_data import DATA_DIR\n",
    "CLAM_DIR = os.path.join(DATA_DIR, '..','..','code','CLAM')\n",
    "\n",
    "bag_latents = torch.load(os.path.join(DATA_DIR, 'bag_latents_gs256_retccl.pt'))\n",
    "# bag latents is a dictionary with keys as slide_id and values as tensors of shape (n_patches, 2048)\n",
    "\n",
    "empty_bags = []\n",
    "for slide_id, latent in bag_latents.items():\n",
    "    if latent.shape[0] == 0:\n",
    "        empty_bags.append(slide_id)\n",
    "display(empty_bags)"
   ]
  },
  {
   "cell_type": "code",
   "execution_count": 11,
   "metadata": {},
   "outputs": [],
   "source": [
    "# we want to save one pt file per slide inside CLAM_DIR/data/p53_classification_retccl_features/pt_files\n",
    "os.makedirs(os.path.join(CLAM_DIR, 'data', 'p53_classification_retccl_features', 'pt_files'), exist_ok=True)\n",
    "for slide_id, patch_latents in bag_latents.items():\n",
    "    torch.save(patch_latents.squeeze(1), os.path.join(CLAM_DIR, 'data', 'p53_classification_retccl_features', 'pt_files', f'slide_{slide_id}.pt'))"
   ]
  },
  {
   "cell_type": "markdown",
   "metadata": {},
   "source": [
    "# Code"
   ]
  },
  {
   "cell_type": "code",
   "execution_count": null,
   "metadata": {},
   "outputs": [],
   "source": [
    "# Dataset initialization\n",
    "    args.n_classes=4\n",
    "    dataset = Generic_MIL_Dataset(csv_path = 'dataset_csv/p53_classification_clean.csv',\n",
    "                            data_dir= os.path.join(args.data_root_dir, 'p53_classification_retccl_features'),\n",
    "                            shuffle = False, \n",
    "                            seed = args.seed, \n",
    "                            print_info = True,\n",
    "                            label_dict = {'wildtype':0, 'overexpression':1, 'nullmutation':2, 'doubleclone':3},\n",
    "                            patient_strat=False,\n",
    "                            ignore=[])"
   ]
  }
 ],
 "metadata": {
  "kernelspec": {
   "display_name": "dl2023",
   "language": "python",
   "name": "python3"
  },
  "language_info": {
   "codemirror_mode": {
    "name": "ipython",
    "version": 3
   },
   "file_extension": ".py",
   "mimetype": "text/x-python",
   "name": "python",
   "nbconvert_exporter": "python",
   "pygments_lexer": "ipython3",
   "version": "3.11.5"
  }
 },
 "nbformat": 4,
 "nbformat_minor": 2
}
